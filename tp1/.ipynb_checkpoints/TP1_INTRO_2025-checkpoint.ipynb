{
 "cells": [
  {
   "cell_type": "markdown",
   "id": "e40902b3",
   "metadata": {
    "id": "e40902b3"
   },
   "source": [
    "<center>\n",
    "<img src=\"https://drive.google.com/uc?id=1cwPX7BgVIwtG7Rpd9FQGdfOxaVrgaR59\" alt=\"Descripción\" width=\"178\">\n",
    "\n",
    "<img src=\"https://drive.google.com/uc?id=1bLJqVtTvaYSS46sJ_VSVmY7j8QgfhAln\" alt=\"Descripción\" width=\"100\">\n",
    "</center>\n",
    "\n",
    "---\n",
    "# **Bioinformática 2025**\n",
    "\n",
    "---\n",
    "\n",
    "## TP Nº1: Entornos y Primeros Programas"
   ]
  },
  {
   "cell_type": "markdown",
   "id": "VXrP2upiuwMS",
   "metadata": {
    "id": "VXrP2upiuwMS"
   },
   "source": [
    "# Sección nueva"
   ]
  },
  {
   "cell_type": "markdown",
   "id": "e04bce7d",
   "metadata": {
    "id": "e04bce7d"
   },
   "source": [
    "# TP0: Entornos de Programación\n",
    "\n",
    "Un entorno de programación es un software/app que nos permite programar y correr los programas en un dado lenguaje (Python, C++, Java, etc). En este curso utilizaremos principalmente Python como lenguaje de programación y bash (la consola de Python) para correr los programas."
   ]
  },
  {
   "cell_type": "markdown",
   "id": "f41aa4b6",
   "metadata": {
    "id": "f41aa4b6"
   },
   "source": [
    "## 1) Para empezar...\n",
    "\n",
    "- Un entorno fácil para empezar en Python es utilizar un entorno on-line que permita practicar algoritmos, programas y sintaxis.\n",
    "- **REPLIT:** [https://repl.it/languages/python3f](https://repl.it/languages/python3f) (registro opcional, muy básico, recomendado).\n",
    "- **Google Colab:** [https://colab.google/](https://colab.google/) (integración con Google Drive; ideal para trabajo colaborativo, aunque no se recomienda trabajar simultáneamente).\n",
    "- **Jupyter notebook (similar a collab pero local en la compu).\n",
    "- **Otros Visual Studio Code (VScode) y Spyder."
   ]
  },
  {
   "cell_type": "markdown",
   "id": "631365a3",
   "metadata": {
    "id": "631365a3"
   },
   "source": [
    "## 2) Instalando Python y editores de texto en LINUX \n",
    "\n",
    "**Instalación de Python y PIP:**\n",
    "- Desde consola: `sudo apt-get install python3-pip`\n",
    "\n",
    "**Instalación de editor de texto vim, nano:**\n",
    "- Desde consola: `sudo apt-get install vim nano`  "
   ]
  },
  {
   "cell_type": "markdown",
   "id": "c5d92e1a-9293-4930-9077-0c89c54a319c",
   "metadata": {},
   "source": [
    "### **Ejercicio 1:**\n",
    "\n",
    "- Abrir un archivo llamado `inicio.py` con VI(M) y escribir:\n",
    "  ```python\n",
    "  print('Este es mi primer programa de Python')\n",
    "  ```\n",
    "- Ejecutar con: `python3 inicio.py`"
   ]
  },
  {
   "cell_type": "markdown",
   "id": "f1ad1902",
   "metadata": {
    "id": "f1ad1902"
   },
   "source": [
    "### **Ejercicio 2:**\n",
    "- Instalar una librería (por ejemplo, pandas) usando:\n",
    "  ```bash\n",
    "  python3 -m pip install pandas\n",
    "  ```\n",
    "\n",
    "Consulta con docentes/compañeros para ver qué librerías instalar.\n",
    "\n",
    "----"
   ]
  },
  {
   "cell_type": "markdown",
   "id": "13ca5477",
   "metadata": {
    "id": "13ca5477"
   },
   "source": [
    "**Instalando Jupyter Notebook con PIP:**\n",
    "- Actualizar pip: `python3 -m pip install --upgrade pip`\n",
    "- Instalar Jupyter: `python3 -m pip install jupyter`\n",
    "- Ejecutar Jupyter Notebook: `~/.local/bin/jupyter-notebook` (en el directorio de uso).\n",
    "\n",
    "**Ejercicio 3:** Corre en Jupyter Notebook tu primer programa de Python.\n",
    "\n",
    "----"
   ]
  },
  {
   "cell_type": "markdown",
   "id": "d5982fc3",
   "metadata": {
    "id": "d5982fc3"
   },
   "source": [
    "## **iii) Entornos avanzados:**\n",
    "\n",
    "Cuando te familiarices con Python, puedes instalar un IDE (Integrated Development Environment) para programar de forma regular.\n",
    "Ejemplos: Anaconda/Conda, Spyder, VSCode, PyCharm, entre otros. La elección es cuestión de gustos.\n",
    "\n",
    "----"
   ]
  },
  {
   "cell_type": "markdown",
   "id": "896a4b38-2cef-4136-8d3f-9ac6cd623f83",
   "metadata": {},
   "source": [
    "## 2) Instalando IDE en LINUX \n",
    "\n",
    "**Instalación de jupyter-notebook:**\n",
    "- Desde consola: `sudo apt-get install jupyter-notebook jupyter-core`\n",
    "\n",
    "**Instalación de spyder:**\n",
    "- Desde consola: `sudo apt-get install spyder`"
   ]
  },
  {
   "cell_type": "markdown",
   "id": "e05d1bcd",
   "metadata": {
    "id": "e05d1bcd"
   },
   "source": [
    "## **IV) Ecosistema de Python:**\n",
    "\n",
    "El ecosistema de Python se basa en el uso de librerías especializadas que proveen funciones específicas.\n",
    "Una vez instaladas (usando PIP), se importan con `import libreriaX` o, para funciones específicas, con `from libreriaX import funcion`.\n",
    "\n",
    "----"
   ]
  },
  {
   "cell_type": "markdown",
   "id": "eb7c5028",
   "metadata": {
    "id": "eb7c5028"
   },
   "source": [
    "# TP01: Empezando a diseñar algoritmos y programar en Python\n",
    "\n",
    "Python es un lenguaje orientado a objetos, por lo que no es necesario declarar variables previamente.\n",
    "Trabajaremos con números y cadenas (strings), que son fundamentales en cualquier lenguaje de programación.\n",
    "\n",
    "Nota: Las cadenas se definen con comillas sencillas o dobles."
   ]
  },
  {
   "cell_type": "markdown",
   "id": "1db192b9",
   "metadata": {
    "id": "1db192b9"
   },
   "source": [
    "### Ejercicio A:\n",
    "\n",
    "- Define y analiza los siguientes objetos en la consola:\n",
    "  - `Entero = 1`\n",
    "  - `Decimal = 2.0`\n",
    "  - `micadena = 'Hola'`\n",
    "\n",
    "Utiliza `help(objeto)` para obtener información sobre cada uno.\n",
    "\n",
    "----"
   ]
  },
  {
   "cell_type": "markdown",
   "id": "2cfa9956",
   "metadata": {
    "id": "2cfa9956"
   },
   "source": [
    "Nota sobre las **variables**:\n",
    "\n",
    "Es recomendable usar nombres de variables lógicos en códigos complejos, en lugar de utilizar nombres genéricos como x, y, etc.\n",
    "\n",
    "----"
   ]
  },
  {
   "cell_type": "markdown",
   "id": "25bd7a8e",
   "metadata": {
    "id": "25bd7a8e"
   },
   "source": [
    "El comando **print**:\n",
    "\n",
    "Se utiliza para mostrar en pantalla el contenido de variables u otros elementos. Ejemplo: `print(variable)`.\n",
    "\n",
    "----"
   ]
  },
  {
   "cell_type": "markdown",
   "id": "fbb40b67",
   "metadata": {
    "id": "fbb40b67"
   },
   "source": [
    "**Comentarios** (#):\n",
    "\n",
    "En Python, `#` indica un comentario. Ejemplo:\n",
    "```python\n",
    "x = 3\n",
    "print(x)  # Imprime el contenido de x\n",
    "```\n",
    "\n",
    "----"
   ]
  },
  {
   "cell_type": "markdown",
   "id": "938e1ce3",
   "metadata": {
    "id": "938e1ce3"
   },
   "source": [
    "**Operadores sencillos:**\n",
    "\n",
    "Realiza operaciones matemáticas y lógicas (suma, resta, multiplicación, comparación, etc.) sin necesidad de funciones adicionales.\n",
    "\n",
    "----"
   ]
  },
  {
   "cell_type": "markdown",
   "id": "26194d70",
   "metadata": {
    "id": "26194d70"
   },
   "source": [
    "**Listas:**\n",
    "\n",
    "Las listas son colecciones ordenadas que se crean de la siguiente manera:\n",
    "```python\n",
    "mi_lista = [1, 2, 3, 4, 5]\n",
    "```\n",
    "\n",
    "Se pueden recorrer con loops, por ejemplo:\n",
    "```python\n",
    "for x in mi_lista:\n",
    "    print(x)\n",
    "```\n",
    "\n",
    "----"
   ]
  },
  {
   "cell_type": "markdown",
   "id": "4ced4a9f",
   "metadata": {
    "id": "4ced4a9f"
   },
   "source": [
    "### Ejercicio B:\n",
    "\n",
    "- Crea una lista de números o caracteres.\n",
    "- Prueba diferentes métodos para manipularla.\n",
    "- Utiliza un loop for para recorrerla y reflexiona sobre el rol de 'x'.\n",
    "\n",
    "----"
   ]
  },
  {
   "cell_type": "code",
   "execution_count": null,
   "id": "oNvP4hWAFYlG",
   "metadata": {
    "id": "oNvP4hWAFYlG"
   },
   "outputs": [],
   "source": [
    "#Ingrese su codigo aqui"
   ]
  },
  {
   "cell_type": "markdown",
   "id": "d2b1f7e5",
   "metadata": {
    "id": "d2b1f7e5"
   },
   "source": [
    "**Variables booleanas:**\n",
    "\n",
    "Utiliza `True` y `False` para tomar decisiones en el código. Ejemplo:\n",
    "```python\n",
    "b = True\n",
    "x = 2\n",
    "print(x == 2)\n",
    "print(x == 3)\n",
    "print(x < 3)\n",
    "```\n",
    "\n",
    "----"
   ]
  },
  {
   "cell_type": "markdown",
   "id": "b07e0b9e",
   "metadata": {
    "id": "b07e0b9e"
   },
   "source": [
    "**Toma de decisiones (Condicionales):**\n",
    "\n",
    "Usa `if`, `else` y `elif` para ejecutar bloques de código basados en condiciones. Ejemplo:\n",
    "```python\n",
    "if x == 2:\n",
    "    print('x es igual a 2')\n",
    "else:\n",
    "    print('x no es igual a 2')\n",
    "```\n",
    "\n",
    "----"
   ]
  },
  {
   "cell_type": "markdown",
   "id": "b24c0b0c",
   "metadata": {
    "id": "b24c0b0c"
   },
   "source": [
    "**Bucles – loops (For y While**):\n",
    "\n",
    "Ejemplo de loop for:\n",
    "```python\n",
    "numeros = [2, 3, 5, 7]\n",
    "for x in numeros:\n",
    "    print(x)\n",
    "```\n",
    "\n",
    "Ejemplo de loop while:\n",
    "```python\n",
    "suma = 0\n",
    "\n",
    "while suma < 5:\n",
    "    print(suma)\n",
    "    suma += 1\n",
    "```\n",
    "\n",
    "----"
   ]
  },
  {
   "cell_type": "markdown",
   "id": "c1f1f177",
   "metadata": {
    "id": "c1f1f177"
   },
   "source": [
    "**Input-Output:**\n",
    "\n",
    "Ejemplo de entrada y salida:\n",
    "```python\n",
    "nombre = input('Ingrese su nombre: ')\n",
    "print('Hola, ' + nombre)\n",
    "```\n",
    "\n",
    "----"
   ]
  },
  {
   "cell_type": "markdown",
   "id": "254adc12",
   "metadata": {
    "id": "254adc12"
   },
   "source": [
    "**Lectura / Escritura de archivos:**\n",
    "\n",
    "Modos de apertura:\n",
    "  - `'r'`: Lectura (error si el archivo no existe)\n",
    "  - `'a'`: Append (agrega contenido, crea el archivo si no existe)\n",
    "  - `'w'`: Write (crea o sobrescribe el archivo)\n",
    "  - `'x'`: Create (crea un archivo nuevo, error si ya existe)\n",
    "\n",
    "Ejemplo de lectura:\n",
    "```python\n",
    "f = open('file_de_prueba', 'r')\n",
    "print(f.readline())\n",
    "f.close()\n",
    "```\n",
    "\n",
    "Ejemplo de escritura:\n",
    "```python\n",
    "f = open('demofile2.txt', 'a')\n",
    "f.write('Now the file has more content!')\n",
    "f.close()\n",
    "\n",
    "f = open('demofile3.txt', 'w')\n",
    "f.write('Woops! I have deleted the content!')\n",
    "f.close()\n",
    "```\n",
    "\n",
    "----"
   ]
  },
  {
   "cell_type": "markdown",
   "id": "8c30326a",
   "metadata": {
    "id": "8c30326a"
   },
   "source": [
    "**Funciones:**\n",
    "\n",
    "Definición y uso de funciones en Python. Ejemplo:\n",
    "```python\n",
    "def mi_funcion(var1, var2):\n",
    "    output = var1 + var2\n",
    "    return output\n",
    "\n",
    "a = 5\n",
    "b = 10\n",
    "x = mi_funcion(a, b)\n",
    "print(x)\n",
    "```\n",
    "\n",
    "Ejercicio: Modifica la función y los valores para experimentar.\n",
    "\n",
    "----"
   ]
  },
  {
   "cell_type": "markdown",
   "id": "5a404c85",
   "metadata": {
    "id": "5a404c85"
   },
   "source": [
    "## Primeros Ejercicios Programados:\n",
    "\n",
    "### Ejercicio 1:\n",
    "- Obtén todos los números primos del 1 al 20 usando loops y condicionales, e imprímelos.\n",
    "- Extiende el código para determinar los números primos hasta un límite definido por el usuario.\n",
    "\n",
    "\n",
    "1) Trate primero de entender en términos computacionales que significa que\n",
    "un número sea primo.\n",
    "\n",
    "2) Piense entonces que deberia hacer un codigo para identificar un número primo.\n",
    "Escriba entonces un grafico que permita entender que es lo que hará su codigo (pseudocodigo).\n",
    "\n",
    "3) Existe una función/operación módulo (o resto). Piense si le puede ser util para el código.\n",
    "\n",
    "4) Recuerde que para recorrer elementos en orden se usan listas.\n",
    "\n",
    "5) Una vez tenga alguna primera versión del programa funcionando:\n",
    "    5a) Analice la performance en tiempo (cuanto tarda su programa?). Use graficos de tiempo vs número de predicciones.\n",
    "    5b) Evalue como mejorar la performance. Haga un pseudocodigo, y si encuentra como, implementelo. Haga un grafico de tiempo\n",
    "            para comparar con 5a."
   ]
  },
  {
   "cell_type": "code",
   "execution_count": null,
   "id": "UExGkkkSFjT2",
   "metadata": {
    "id": "UExGkkkSFjT2"
   },
   "outputs": [],
   "source": [
    "#Ingrese su codigo aqui"
   ]
  },
  {
   "cell_type": "markdown",
   "id": "CXwWLxlmFjvH",
   "metadata": {
    "id": "CXwWLxlmFjvH"
   },
   "source": [
    "----\n",
    "\n",
    "### Ejercicio 2:\n",
    "\n",
    "- Crea un programa que para generar posibles passwords use Nombre, Fecha de nacimiento y DNI.\n",
    "  a) Para ello utilice las herramientas para que el codigo le pida que ingrese esos datos y le de una clave.\n",
    "  Investigue el uso de diccionarios, listas y permutaciones.  \n",
    "\n",
    "  - Requisitos: 8 caracteres, al menos 2 letras, 2 números y sin fragmentos del nombre, fecha o DNI."
   ]
  },
  {
   "cell_type": "code",
   "execution_count": null,
   "id": "-rFO9rLeFmEh",
   "metadata": {
    "id": "-rFO9rLeFmEh"
   },
   "outputs": [],
   "source": [
    "#Ingrese su codigo aqui"
   ]
  },
  {
   "cell_type": "markdown",
   "id": "_2hTqfruFncy",
   "metadata": {
    "id": "_2hTqfruFncy"
   },
   "source": [
    "----\n",
    "\n",
    "### Ejercicio 3:\n",
    "- Selecciona o crea un archivo de texto y cuenta cuántas veces aparece una palabra dada (ingresada por el usuario).\n",
    "\n",
    "- Cuente la frecuencia de cada palabra y luego represente el conteo en una nube de palabras (puede explorar la librería WordCloud o alguna que considere útil).\n",
    "\n",
    "- Pruebe el código con algún archivo de texto, ¿para que podria usar esa representacion ? ¿le parece necesario excluir alguna palabra para realizar el gráfico? ¿Considera que está usted sesgado en la utilización de alguna muletilla/palabra al escribir?"
   ]
  },
  {
   "cell_type": "code",
   "execution_count": null,
   "id": "_b1h_eR_F4q6",
   "metadata": {
    "id": "_b1h_eR_F4q6"
   },
   "outputs": [],
   "source": [
    "#Ingrese su codigo aqui"
   ]
  },
  {
   "cell_type": "markdown",
   "id": "20dbba3e-9be1-4b4e-adab-7a477636ea2f",
   "metadata": {
    "id": "KPLgEe_f7CFt"
   },
   "source": [
    "-----\n",
    "\n",
    "### Ejercicio 4:\n",
    "\n",
    "- Ya que vamos a intentar programar nuestros modulos bioinformáticos para ganar en versatilidad y\n",
    "  para emparejar con el otro track de la materia, podria programar una busqueda en una base de datos primaria ?\n",
    "\n",
    "- Que caracteristicas tiene una BD 1 ? ¿que querría buscar en ellas ?\n",
    "\n",
    "- Usando algo de informacion de https://biopython.org/docs/dev/Tutorial/chapter_entrez.html,\n",
    "podria construir un programa que baje un registro de una base de datos usando palabras clave ?\n",
    "autor, año, revista, base de datos.\n",
    "\n",
    "- Puede buscar palabras clave dentro de esos registros ?\n",
    "\n",
    "- Que campos tiene ese registro ?"
   ]
  },
  {
   "cell_type": "code",
   "execution_count": null,
   "id": "ITYhlADQF4KJ",
   "metadata": {
    "id": "ITYhlADQF4KJ"
   },
   "outputs": [],
   "source": [
    "#Ingrese su codigo aqui"
   ]
  }
 ],
 "metadata": {
  "colab": {
   "provenance": []
  },
  "kernelspec": {
   "display_name": "Python 3 (ipykernel)",
   "language": "python",
   "name": "python3"
  },
  "language_info": {
   "codemirror_mode": {
    "name": "ipython",
    "version": 3
   },
   "file_extension": ".py",
   "mimetype": "text/x-python",
   "name": "python",
   "nbconvert_exporter": "python",
   "pygments_lexer": "ipython3",
   "version": "3.9.13"
  }
 },
 "nbformat": 4,
 "nbformat_minor": 5
}
